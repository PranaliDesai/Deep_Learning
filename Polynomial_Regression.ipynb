{
  "nbformat": 4,
  "nbformat_minor": 0,
  "metadata": {
    "colab": {
      "name": "Polynomial_Regression.ipynb",
      "version": "0.3.2",
      "provenance": [],
      "include_colab_link": true
    },
    "kernelspec": {
      "name": "python3",
      "display_name": "Python 3"
    },
    "accelerator": "GPU"
  },
  "cells": [
    {
      "cell_type": "markdown",
      "metadata": {
        "id": "view-in-github",
        "colab_type": "text"
      },
      "source": [
        "<a href=\"https://colab.research.google.com/github/PranaliDesai/Deep_Learning/blob/master/Polynomial_Regression.ipynb\" target=\"_parent\"><img src=\"https://colab.research.google.com/assets/colab-badge.svg\" alt=\"Open In Colab\"/></a>"
      ]
    },
    {
      "cell_type": "code",
      "metadata": {
        "id": "OVPZbALqs3wB",
        "colab_type": "code",
        "colab": {
          "base_uri": "https://localhost:8080/",
          "height": 34
        },
        "outputId": "8383975d-835f-407f-fcd5-6bb326d6842d"
      },
      "source": [
        "import numpy as np\n",
        "import matplotlib.pyplot as plt\n",
        "from keras.models import Sequential\n",
        "from keras.layers import Dense\n",
        "from keras.optimizers import Adam"
      ],
      "execution_count": 2,
      "outputs": [
        {
          "output_type": "stream",
          "text": [
            "Using TensorFlow backend.\n"
          ],
          "name": "stderr"
        }
      ]
    },
    {
      "cell_type": "code",
      "metadata": {
        "id": "KeNmnnfdteuQ",
        "colab_type": "code",
        "colab": {
          "base_uri": "https://localhost:8080/",
          "height": 286
        },
        "outputId": "0ad033c2-f680-4937-8777-63e5abac70cf"
      },
      "source": [
        "np.random.seed(0)\n",
        "points = 500\n",
        "X = np.linspace(-3, 3, points)\n",
        "y = np.sin(X) + np.random.uniform(-0.5, 0.5, points)\n",
        "plt.scatter(X, y)"
      ],
      "execution_count": 3,
      "outputs": [
        {
          "output_type": "execute_result",
          "data": {
            "text/plain": [
              "<matplotlib.collections.PathCollection at 0x7f479808f7b8>"
            ]
          },
          "metadata": {
            "tags": []
          },
          "execution_count": 3
        },
        {
          "output_type": "display_data",
          "data": {
            "image/png": "[encoded data removed]",
            "text/plain": [
              "<Figure size 432x288 with 1 Axes>"
            ]
          },
          "metadata": {
            "tags": []
          }
        }
      ]
    },
    {
      "cell_type": "code",
      "metadata": {
        "id": "JWImkh8CuQg9",
        "colab_type": "code",
        "colab": {
          "base_uri": "https://localhost:8080/",
          "height": 156
        },
        "outputId": "97262f6a-b01f-4294-ca39-beca0c7e76db"
      },
      "source": [
        "model = Sequential()\n",
        "model.add(Dense(50, activation='sigmoid', input_dim=1)) # only 1 since its a regression type example\n",
        "model.add(Dense(30, activation='sigmoid'))\n",
        "model.add(Dense(1))\n"
      ],
      "execution_count": 4,
      "outputs": [
        {
          "output_type": "stream",
          "text": [
            "WARNING: Logging before flag parsing goes to stderr.\n",
            "W0721 18:13:44.194973 139946723121024 deprecation_wrapper.py:119] From /usr/local/lib/python3.6/dist-packages/keras/backend/tensorflow_backend.py:74: The name tf.get_default_graph is deprecated. Please use tf.compat.v1.get_default_graph instead.\n",
            "\n",
            "W0721 18:13:44.245172 139946723121024 deprecation_wrapper.py:119] From /usr/local/lib/python3.6/dist-packages/keras/backend/tensorflow_backend.py:517: The name tf.placeholder is deprecated. Please use tf.compat.v1.placeholder instead.\n",
            "\n",
            "W0721 18:13:44.249370 139946723121024 deprecation_wrapper.py:119] From /usr/local/lib/python3.6/dist-packages/keras/backend/tensorflow_backend.py:4138: The name tf.random_uniform is deprecated. Please use tf.random.uniform instead.\n",
            "\n"
          ],
          "name": "stderr"
        }
      ]
    },
    {
      "cell_type": "code",
      "metadata": {
        "id": "Epp2nAx7uSQe",
        "colab_type": "code",
        "colab": {
          "base_uri": "https://localhost:8080/",
          "height": 1000
        },
        "outputId": "ec430db7-e349-4240-fae3-e7f8ad79c891"
      },
      "source": [
        "adam = Adam(lr=0.01)\n",
        "model.compile(loss='mse', optimizer=adam)\n",
        "model.fit(X, y, epochs=50)"
      ],
      "execution_count": 14,
      "outputs": [
        {
          "output_type": "stream",
          "text": [
            "Epoch 1/50\n",
            "500/500 [==============================] - 0s 731us/step - loss: 0.0915\n",
            "Epoch 2/50\n",
            "500/500 [==============================] - 0s 124us/step - loss: 0.0924\n",
            "Epoch 3/50\n",
            "500/500 [==============================] - 0s 126us/step - loss: 0.0940\n",
            "Epoch 4/50\n",
            "500/500 [==============================] - 0s 108us/step - loss: 0.0892\n",
            "Epoch 5/50\n",
            "500/500 [==============================] - 0s 120us/step - loss: 0.0866\n",
            "Epoch 6/50\n",
            "500/500 [==============================] - 0s 134us/step - loss: 0.0873\n",
            "Epoch 7/50\n",
            "500/500 [==============================] - 0s 113us/step - loss: 0.0908\n",
            "Epoch 8/50\n",
            "500/500 [==============================] - 0s 145us/step - loss: 0.0891\n",
            "Epoch 9/50\n",
            "500/500 [==============================] - 0s 120us/step - loss: 0.0916\n",
            "Epoch 10/50\n",
            "500/500 [==============================] - 0s 109us/step - loss: 0.0884\n",
            "Epoch 11/50\n",
            "500/500 [==============================] - 0s 116us/step - loss: 0.0911\n",
            "Epoch 12/50\n",
            "500/500 [==============================] - 0s 140us/step - loss: 0.0889\n",
            "Epoch 13/50\n",
            "500/500 [==============================] - 0s 114us/step - loss: 0.0875\n",
            "Epoch 14/50\n",
            "500/500 [==============================] - 0s 125us/step - loss: 0.0887\n",
            "Epoch 15/50\n",
            "500/500 [==============================] - 0s 107us/step - loss: 0.0886\n",
            "Epoch 16/50\n",
            "500/500 [==============================] - 0s 131us/step - loss: 0.0898\n",
            "Epoch 17/50\n",
            "500/500 [==============================] - 0s 113us/step - loss: 0.0876\n",
            "Epoch 18/50\n",
            "500/500 [==============================] - 0s 113us/step - loss: 0.0862\n",
            "Epoch 19/50\n",
            "500/500 [==============================] - 0s 114us/step - loss: 0.0934\n",
            "Epoch 20/50\n",
            "500/500 [==============================] - 0s 123us/step - loss: 0.0871\n",
            "Epoch 21/50\n",
            "500/500 [==============================] - 0s 112us/step - loss: 0.0898\n",
            "Epoch 22/50\n",
            "500/500 [==============================] - 0s 117us/step - loss: 0.0907\n",
            "Epoch 23/50\n",
            "500/500 [==============================] - 0s 131us/step - loss: 0.0887\n",
            "Epoch 24/50\n",
            "500/500 [==============================] - 0s 117us/step - loss: 0.0859\n",
            "Epoch 25/50\n",
            "500/500 [==============================] - 0s 134us/step - loss: 0.0870\n",
            "Epoch 26/50\n",
            "500/500 [==============================] - 0s 152us/step - loss: 0.0860\n",
            "Epoch 27/50\n",
            "500/500 [==============================] - 0s 148us/step - loss: 0.0889\n",
            "Epoch 28/50\n",
            "500/500 [==============================] - 0s 149us/step - loss: 0.0896\n",
            "Epoch 29/50\n",
            "500/500 [==============================] - 0s 142us/step - loss: 0.0865\n",
            "Epoch 30/50\n",
            "500/500 [==============================] - 0s 130us/step - loss: 0.0897\n",
            "Epoch 31/50\n",
            "500/500 [==============================] - 0s 138us/step - loss: 0.0876\n",
            "Epoch 32/50\n",
            "500/500 [==============================] - 0s 131us/step - loss: 0.0881\n",
            "Epoch 33/50\n",
            "500/500 [==============================] - 0s 116us/step - loss: 0.0855\n",
            "Epoch 34/50\n",
            "500/500 [==============================] - 0s 142us/step - loss: 0.0872\n",
            "Epoch 35/50\n",
            "500/500 [==============================] - 0s 139us/step - loss: 0.0865\n",
            "Epoch 36/50\n",
            "500/500 [==============================] - 0s 139us/step - loss: 0.0858\n",
            "Epoch 37/50\n",
            "500/500 [==============================] - 0s 139us/step - loss: 0.0879\n",
            "Epoch 38/50\n",
            "500/500 [==============================] - 0s 134us/step - loss: 0.0883\n",
            "Epoch 39/50\n",
            "500/500 [==============================] - 0s 131us/step - loss: 0.0871\n",
            "Epoch 40/50\n",
            "500/500 [==============================] - 0s 133us/step - loss: 0.0859\n",
            "Epoch 41/50\n",
            "500/500 [==============================] - 0s 131us/step - loss: 0.0895\n",
            "Epoch 42/50\n",
            "500/500 [==============================] - 0s 139us/step - loss: 0.0855\n",
            "Epoch 43/50\n",
            "500/500 [==============================] - 0s 158us/step - loss: 0.0891\n",
            "Epoch 44/50\n",
            "500/500 [==============================] - 0s 131us/step - loss: 0.0916\n",
            "Epoch 45/50\n",
            "500/500 [==============================] - 0s 131us/step - loss: 0.0900\n",
            "Epoch 46/50\n",
            "500/500 [==============================] - 0s 138us/step - loss: 0.0894\n",
            "Epoch 47/50\n",
            "500/500 [==============================] - 0s 131us/step - loss: 0.0862\n",
            "Epoch 48/50\n",
            "500/500 [==============================] - 0s 118us/step - loss: 0.0860\n",
            "Epoch 49/50\n",
            "500/500 [==============================] - 0s 140us/step - loss: 0.0888\n",
            "Epoch 50/50\n",
            "500/500 [==============================] - 0s 146us/step - loss: 0.0874\n"
          ],
          "name": "stdout"
        },
        {
          "output_type": "execute_result",
          "data": {
            "text/plain": [
              "<keras.callbacks.History at 0x7f4790124748>"
            ]
          },
          "metadata": {
            "tags": []
          },
          "execution_count": 14
        }
      ]
    },
    {
      "cell_type": "code",
      "metadata": {
        "id": "g-mPyma8uTy3",
        "colab_type": "code",
        "colab": {
          "base_uri": "https://localhost:8080/",
          "height": 269
        },
        "outputId": "fc6250fb-2dac-4158-f2ec-47ed9331d28e"
      },
      "source": [
        "predictions = model.predict(X)\n",
        "plt.scatter(X, y)\n",
        "plt.plot(X, predictions, 'ro')\n",
        "plt.show()"
      ],
      "execution_count": 15,
      "outputs": [
        {
          "output_type": "display_data",
          "data": {
            "image/png": "[encoded data removed]",
            "text/plain": [
              "<Figure size 432x288 with 1 Axes>"
            ]
          },
          "metadata": {
            "tags": []
          }
        }
      ]
    }
  ]
}