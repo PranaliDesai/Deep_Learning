{
  "nbformat": 4,
  "nbformat_minor": 0,
  "metadata": {
    "colab": {
      "name": "MNIST_image_recog.ipynb",
      "version": "0.3.2",
      "provenance": [],
      "collapsed_sections": [],
      "include_colab_link": true
    },
    "kernelspec": {
      "name": "python3",
      "display_name": "Python 3"
    },
    "accelerator": "GPU"
  },
  "cells": [
    {
      "cell_type": "markdown",
      "metadata": {
        "id": "view-in-github",
        "colab_type": "text"
      },
      "source": [
        "<a href=\"https://colab.research.google.com/github/PranaliDesai/Deep_Learning/blob/master/MNIST_image_recog.ipynb\" target=\"_parent\"><img src=\"https://colab.research.google.com/assets/colab-badge.svg\" alt=\"Open In Colab\"/></a>"
      ]
    },
    {
      "cell_type": "code",
      "metadata": {
        "id": "-JtmCglqdUrf",
        "colab_type": "code",
        "colab": {}
      },
      "source": [
        "import numpy as np  \n",
        "import matplotlib.pyplot as plt\n",
        "import keras\n",
        "from keras.datasets import mnist    #to import the datasets\n",
        "from keras.models import Sequential # to define neural model \n",
        "from keras.layers import Dense      # allows to connect us layers\n",
        "from keras.optimizers import Adam   # using optimizer \n",
        "from keras.utils.np_utils import to_categorical # to allow one-hot encoding since multiclass datasets\n",
        "import random               "
      ],
      "execution_count": 0,
      "outputs": []
    },
    {
      "cell_type": "code",
      "metadata": {
        "id": "Qond6Xxaduaj",
        "colab_type": "code",
        "colab": {}
      },
      "source": [
        "np.random.seed(0)"
      ],
      "execution_count": 0,
      "outputs": []
    },
    {
      "cell_type": "code",
      "metadata": {
        "id": "vK_EiFCjeb1u",
        "colab_type": "code",
        "colab": {}
      },
      "source": [
        "(X_train, y_train), (X_test, y_test) = mnist.load_data() # to load train and test datsets with labels "
      ],
      "execution_count": 0,
      "outputs": []
    },
    {
      "cell_type": "code",
      "metadata": {
        "id": "axjqq1uGexuF",
        "colab_type": "code",
        "colab": {
          "base_uri": "https://localhost:8080/",
          "height": 68
        },
        "outputId": "3ac4b371-2b3d-4db2-9f2b-2108407c3eb6"
      },
      "source": [
        "print(X_train.shape)\n",
        "print(X_test.shape)\n",
        "print(y_train.shape[0])\n",
        "assert(X_train.shape[0] == y_train.shape[0]), \"The number of images is not equal to the number of labels.\"\n",
        "assert(X_test.shape[0] == y_test.shape[0]), \"The number of images is not equal to the number of labels.\"\n",
        "assert(X_train.shape[1:] == (28,28)), \"The dimensions of the images are not 28x28\"\n",
        "assert(X_test.shape[1:] == (28,28)), \"The dimensions of the images are not 28x28\""
      ],
      "execution_count": 20,
      "outputs": [
        {
          "output_type": "stream",
          "text": [
            "(60000, 28, 28)\n",
            "(10000, 28, 28)\n",
            "60000\n"
          ],
          "name": "stdout"
        }
      ]
    },
    {
      "cell_type": "code",
      "metadata": {
        "id": "VUyK5YTHfJHB",
        "colab_type": "code",
        "colab": {
          "base_uri": "https://localhost:8080/",
          "height": 597
        },
        "outputId": "6b495c20-a720-46cc-b028-f8e7703936e0"
      },
      "source": [
        "num_of_samples = [] # record number of images in all the ten categories \n",
        " \n",
        "cols = 5 \n",
        "num_classes = 10\n",
        " \n",
        "fig, axs = plt.subplots(nrows=num_classes, ncols = cols, figsize=(5, 8))\n",
        "fig.tight_layout()  # minimizes overlapping between plots \n",
        "for i in range(cols):\n",
        "    for j in range(num_classes):\n",
        "        x_selected = X_train[y_train == j] \n",
        "        axs[j][i].imshow(x_selected[random.randint(0, len(x_selected - 1)), :, :], cmap=plt.get_cmap(\"gray\"))\n",
        "        axs[j][i].axis(\"off\")\n",
        "        if i == 2:\n",
        "            axs[j][i].set_title(str(j))\n",
        "            num_of_samples.append(len(x_selected))"
      ],
      "execution_count": 21,
      "outputs": [
        {
          "output_type": "display_data",
          "data": {
            "image/png": "[encoded data removed]",
            "text/plain": [
              "<Figure size 360x576 with 50 Axes>"
            ]
          },
          "metadata": {
            "tags": []
          }
        }
      ]
    },
    {
      "cell_type": "code",
      "metadata": {
        "id": "ercoPMpthuoA",
        "colab_type": "code",
        "colab": {
          "base_uri": "https://localhost:8080/",
          "height": 329
        },
        "outputId": "2e044d57-6f0a-45e7-97f9-65064d326bf1"
      },
      "source": [
        "print(num_of_samples)\n",
        "plt.figure(figsize=(12, 4))\n",
        "plt.bar(range(0, num_classes), num_of_samples)\n",
        "plt.title(\"Distribution of the training dataset\")\n",
        "plt.xlabel(\"Class number\")\n",
        "plt.ylabel(\"Number of images\")"
      ],
      "execution_count": 22,
      "outputs": [
        {
          "output_type": "stream",
          "text": [
            "[5923, 6742, 5958, 6131, 5842, 5421, 5918, 6265, 5851, 5949]\n"
          ],
          "name": "stdout"
        },
        {
          "output_type": "execute_result",
          "data": {
            "text/plain": [
              "Text(0, 0.5, 'Number of images')"
            ]
          },
          "metadata": {
            "tags": []
          },
          "execution_count": 22
        },
        {
          "output_type": "display_data",
          "data": {
            "image/png": "[encoded data removed]",
            "text/plain": [
              "<Figure size 864x288 with 1 Axes>"
            ]
          },
          "metadata": {
            "tags": []
          }
        }
      ]
    },
    {
      "cell_type": "code",
      "metadata": {
        "id": "npaIuXWR6vsE",
        "colab_type": "code",
        "colab": {}
      },
      "source": [
        "y_train = to_categorical(y_train, 10) #one hot encoding ( here 10 being the number of classes )\n",
        "y_test = to_categorical(y_test, 10) # one hot encoding ( here 10 being the number of classes )\n",
        " \n",
        "X_train = X_train/255   #normalizing to scale down the features to reduce variance \n",
        "X_test = X_test/255     #normalizing to scale down the features to reduce variance \n",
        "\n",
        "num_pixels = 784 #since 28*28 is the size of images \n",
        "X_train = X_train.reshape(X_train.shape[0], num_pixels) # flatten the images since weights need to be multiplied\n",
        "X_test = X_test.reshape(X_test.shape[0], num_pixels)    # flatten the images since weights need to be multiplied"
      ],
      "execution_count": 0,
      "outputs": []
    },
    {
      "cell_type": "code",
      "metadata": {
        "id": "t777DXFt7yw1",
        "colab_type": "code",
        "colab": {}
      },
      "source": [
        "def create_model():\n",
        "    model = Sequential() # defining our model \n",
        "    model.add(Dense(10, input_dim=num_pixels, activation='relu')) # adding layers with 10 nodes , input layer has \"num_pixels\" nodes \n",
        "    model.add(Dense(30, activation='relu')) \n",
        "    model.add(Dense(10, activation='relu')) \n",
        "    model.add(Dense(num_classes, activation='softmax')) # number of outputs = num of classes \n",
        "    model.compile(Adam(lr=0.01), loss='categorical_crossentropy', metrics=['accuracy'])\n",
        "    return model"
      ],
      "execution_count": 0,
      "outputs": []
    },
    {
      "cell_type": "code",
      "metadata": {
        "id": "kytbKVES9acB",
        "colab_type": "code",
        "colab": {
          "base_uri": "https://localhost:8080/",
          "height": 289
        },
        "outputId": "5e543cfc-c8db-4aac-8668-de73bdd3ec4a"
      },
      "source": [
        "model = create_model()\n",
        "print(model.summary())"
      ],
      "execution_count": 25,
      "outputs": [
        {
          "output_type": "stream",
          "text": [
            "_________________________________________________________________\n",
            "Layer (type)                 Output Shape              Param #   \n",
            "=================================================================\n",
            "dense_5 (Dense)              (None, 10)                7850      \n",
            "_________________________________________________________________\n",
            "dense_6 (Dense)              (None, 30)                330       \n",
            "_________________________________________________________________\n",
            "dense_7 (Dense)              (None, 10)                310       \n",
            "_________________________________________________________________\n",
            "dense_8 (Dense)              (None, 10)                110       \n",
            "=================================================================\n",
            "Total params: 8,600\n",
            "Trainable params: 8,600\n",
            "Non-trainable params: 0\n",
            "_________________________________________________________________\n",
            "None\n"
          ],
          "name": "stdout"
        }
      ]
    },
    {
      "cell_type": "code",
      "metadata": {
        "id": "MqiaD3gq9cmy",
        "colab_type": "code",
        "colab": {
          "base_uri": "https://localhost:8080/",
          "height": 374
        },
        "outputId": "ea249ef7-4e64-4587-cb6b-cf055aa636ab"
      },
      "source": [
        " \n",
        "history = model.fit(X_train, y_train, validation_split=0.1, epochs = 10, batch_size = 200, verbose = 1, shuffle = 1)"
      ],
      "execution_count": 26,
      "outputs": [
        {
          "output_type": "stream",
          "text": [
            "Train on 54000 samples, validate on 6000 samples\n",
            "Epoch 1/10\n",
            "54000/54000 [==============================] - 2s 39us/step - loss: 0.6332 - acc: 0.8055 - val_loss: 0.3218 - val_acc: 0.9032\n",
            "Epoch 2/10\n",
            "54000/54000 [==============================] - 2s 32us/step - loss: 0.3815 - acc: 0.8905 - val_loss: 0.2858 - val_acc: 0.9170\n",
            "Epoch 3/10\n",
            "54000/54000 [==============================] - 2s 33us/step - loss: 0.3384 - acc: 0.9007 - val_loss: 0.2820 - val_acc: 0.9133\n",
            "Epoch 4/10\n",
            "54000/54000 [==============================] - 2s 32us/step - loss: 0.3271 - acc: 0.9038 - val_loss: 0.2759 - val_acc: 0.9178\n",
            "Epoch 5/10\n",
            "54000/54000 [==============================] - 2s 33us/step - loss: 0.3146 - acc: 0.9073 - val_loss: 0.2766 - val_acc: 0.9167\n",
            "Epoch 6/10\n",
            "54000/54000 [==============================] - 2s 33us/step - loss: 0.3007 - acc: 0.9103 - val_loss: 0.2653 - val_acc: 0.9233\n",
            "Epoch 7/10\n",
            "54000/54000 [==============================] - 2s 32us/step - loss: 0.2938 - acc: 0.9118 - val_loss: 0.2530 - val_acc: 0.9248\n",
            "Epoch 8/10\n",
            "54000/54000 [==============================] - 2s 33us/step - loss: 0.2879 - acc: 0.9151 - val_loss: 0.2731 - val_acc: 0.9165\n",
            "Epoch 9/10\n",
            "54000/54000 [==============================] - 2s 35us/step - loss: 0.2825 - acc: 0.9163 - val_loss: 0.2316 - val_acc: 0.9298\n",
            "Epoch 10/10\n",
            "54000/54000 [==============================] - 2s 34us/step - loss: 0.2737 - acc: 0.9177 - val_loss: 0.2372 - val_acc: 0.9272\n"
          ],
          "name": "stdout"
        }
      ]
    },
    {
      "cell_type": "code",
      "metadata": {
        "id": "h0PkfktL-57B",
        "colab_type": "code",
        "colab": {
          "base_uri": "https://localhost:8080/",
          "height": 312
        },
        "outputId": "d53c806d-e4e9-4d43-b37d-3a238c135829"
      },
      "source": [
        "plt.plot(history.history['loss'])\n",
        "plt.plot(history.history['val_loss'])\n",
        "plt.legend(['loss', 'val_loss'])\n",
        "plt.title('Loss')\n",
        "plt.xlabel('epoch')"
      ],
      "execution_count": 27,
      "outputs": [
        {
          "output_type": "execute_result",
          "data": {
            "text/plain": [
              "Text(0.5, 0, 'epoch')"
            ]
          },
          "metadata": {
            "tags": []
          },
          "execution_count": 27
        },
        {
          "output_type": "display_data",
          "data": {
            "image/png": "[encoded data removed]",
            "text/plain": [
              "<Figure size 432x288 with 1 Axes>"
            ]
          },
          "metadata": {
            "tags": []
          }
        }
      ]
    },
    {
      "cell_type": "code",
      "metadata": {
        "id": "q_vmmy4d-8Gc",
        "colab_type": "code",
        "colab": {
          "base_uri": "https://localhost:8080/",
          "height": 312
        },
        "outputId": "c4e72507-4993-4171-ad62-9a8be69d098c"
      },
      "source": [
        "plt.plot(history.history['acc'])\n",
        "plt.plot(history.history['val_acc'])\n",
        "plt.legend(['acc', 'val_acc'])\n",
        "plt.title('Accuracy')\n",
        "plt.xlabel('epoch')\n"
      ],
      "execution_count": 28,
      "outputs": [
        {
          "output_type": "execute_result",
          "data": {
            "text/plain": [
              "Text(0.5, 0, 'epoch')"
            ]
          },
          "metadata": {
            "tags": []
          },
          "execution_count": 28
        },
        {
          "output_type": "display_data",
          "data": {
            "image/png": "[encoded data removed]",
            "text/plain": [
              "<Figure size 432x288 with 1 Axes>"
            ]
          },
          "metadata": {
            "tags": []
          }
        }
      ]
    },
    {
      "cell_type": "code",
      "metadata": {
        "id": "KtmOV072_NyQ",
        "colab_type": "code",
        "colab": {
          "base_uri": "https://localhost:8080/",
          "height": 51
        },
        "outputId": "0f924c36-033c-42a8-c155-0f6e165419c8"
      },
      "source": [
        "score = model.evaluate(X_test, y_test, verbose=0) # verbose 0 here to not display progress bar \n",
        "print('Test score:', score[0])\n",
        "print('Test accuracy:', score[1])"
      ],
      "execution_count": 29,
      "outputs": [
        {
          "output_type": "stream",
          "text": [
            "Test score: 0.2958778143912554\n",
            "Test accuracy: 0.9148\n"
          ],
          "name": "stdout"
        }
      ]
    },
    {
      "cell_type": "code",
      "metadata": {
        "id": "Ixr0RBvnDjv1",
        "colab_type": "code",
        "colab": {
          "base_uri": "https://localhost:8080/",
          "height": 286
        },
        "outputId": "29dc07d1-8d18-48f3-80b9-75c9776f1754"
      },
      "source": [
        "import requests\n",
        "from PIL import Image # python imaging library \n",
        " \n",
        "url = 'https://www.researchgate.net/profile/Jose_Sempere/publication/221258631/figure/fig1/AS:305526891139075@1449854695342/Handwritten-digit-2.png'\n",
        "response = requests.get(url, stream=True) # to get in the memory \n",
        "img = Image.open(response.raw) \n",
        "plt.imshow(img, cmap=plt.get_cmap('gray'))\n",
        " \n",
        "import cv2\n",
        " \n",
        "img = np.asarray(img) # convert to numpy to be able to modify \n",
        "img = cv2.resize(img, (28, 28)) # to convert to make it like the training images \n",
        "img = cv2.cvtColor(img, cv2.COLOR_BGR2GRAY) # since we need only two dimensional images(gray) that is 28*28\n",
        "img = cv2.bitwise_not(img) # since our number should be in white and background black(like training images)\n",
        "plt.imshow(img, cmap=plt.get_cmap('gray')) # to make it like the training images "
      ],
      "execution_count": 30,
      "outputs": [
        {
          "output_type": "execute_result",
          "data": {
            "text/plain": [
              "<matplotlib.image.AxesImage at 0x7fcc01f233c8>"
            ]
          },
          "metadata": {
            "tags": []
          },
          "execution_count": 30
        },
        {
          "output_type": "display_data",
          "data": {
            "image/png": "[encoded data removed]",
            "text/plain": [
              "<Figure size 432x288 with 1 Axes>"
            ]
          },
          "metadata": {
            "tags": []
          }
        }
      ]
    },
    {
      "cell_type": "code",
      "metadata": {
        "id": "QsPNb01KF2m7",
        "colab_type": "code",
        "colab": {}
      },
      "source": [
        "img = img/255 # normalizing like training images \n",
        "img = img.reshape(1, 784) # flatten just like we have training images "
      ],
      "execution_count": 0,
      "outputs": []
    },
    {
      "cell_type": "code",
      "metadata": {
        "id": "ie5013JXF-Iq",
        "colab_type": "code",
        "colab": {
          "base_uri": "https://localhost:8080/",
          "height": 34
        },
        "outputId": "b70f919c-b199-4975-df30-7a196ee4aed9"
      },
      "source": [
        "prediction = model.predict_classes(img) # to predict the new images \n",
        "print(\"predicted digit:\", str(prediction)) #output "
      ],
      "execution_count": 32,
      "outputs": [
        {
          "output_type": "stream",
          "text": [
            "predicted digit: [2]\n"
          ],
          "name": "stdout"
        }
      ]
    }
  ]
}